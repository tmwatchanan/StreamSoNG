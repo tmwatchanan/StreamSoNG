{
 "cells": [
  {
   "cell_type": "markdown",
   "id": "compact-telephone",
   "metadata": {},
   "source": [
    "<center><h1>StreamSoNG (Streaming Soft Neural Gas)</h1></center>"
   ]
  },
  {
   "cell_type": "markdown",
   "id": "settled-ozone",
   "metadata": {},
   "source": [
    "<hr />"
   ]
  },
  {
   "cell_type": "code",
   "execution_count": 246,
   "id": "different-fisher",
   "metadata": {},
   "outputs": [],
   "source": [
    "import numpy as np\n",
    "import matplotlib.pyplot as plt"
   ]
  },
  {
   "cell_type": "code",
   "execution_count": 247,
   "id": "packed-personality",
   "metadata": {},
   "outputs": [
    {
     "data": {
      "text/plain": [
       "((200, 2), (200,))"
      ]
     },
     "execution_count": 247,
     "metadata": {},
     "output_type": "execute_result"
    }
   ],
   "source": [
    "X1 = np.random.normal(-5, 1,(100, 2))\n",
    "Y1 = np.zeros(len(X1))\n",
    "X2 = np.random.normal(5, 2,(100, 2))\n",
    "Y2 = np.zeros(len(X2)) + 1\n",
    "X = np.concatenate((X1, X2), axis=0)\n",
    "Y = np.concatenate((Y1, Y2), axis=0)\n",
    "\n",
    "X.shape, Y.shape"
   ]
  },
  {
   "cell_type": "code",
   "execution_count": 11,
   "id": "eligible-accent",
   "metadata": {},
   "outputs": [
    {
     "data": {
      "text/plain": [
       "('C', 2)"
      ]
     },
     "execution_count": 11,
     "metadata": {},
     "output_type": "execute_result"
    }
   ],
   "source": [
    "C = len(np.unique(Y))\n",
    "\"C\", C"
   ]
  },
  {
   "cell_type": "markdown",
   "id": "bottom-trustee",
   "metadata": {},
   "source": [
    "# Neural Gas (NG)"
   ]
  },
  {
   "cell_type": "code",
   "execution_count": 248,
   "id": "dutch-permission",
   "metadata": {},
   "outputs": [],
   "source": [
    "class NeuralGas():\n",
    "    def __init__(self, num_prototypes, dimension, step_size, neighborhood_range):\n",
    "        self.num_prototypes = num_prototypes\n",
    "        self.dimension = dimension\n",
    "#         self.prototypes = np.random.random((num_prototypes, dimension))\n",
    "        self.prototypes = np.random.normal(0, 4, (num_prototypes, dimension))\n",
    "        self.prototype_labels = np.full(num_prototypes, np.nan)\n",
    "        self.step_size = step_size\n",
    "        self.neighborhood_range = neighborhood_range\n",
    "    \n",
    "    def initialize_prototypes(self, X, Y):\n",
    "        indices = np.random.choice(len(X), self.num_prototypes)\n",
    "        for i in range(len(indices)):\n",
    "            self.prototypes[i] = X[indices[i]]\n",
    "            self.prototype_labels[i] = Y[indices[i]]\n",
    "    \n",
    "    def visualize(self, X, Y):\n",
    "        fig, ax = plt.subplots()\n",
    "        \n",
    "        # data\n",
    "        ax.scatter(X[:, 0], X[:, 1], label=\"data\", c=Y, cmap=\"Pastel1\")\n",
    "        \n",
    "        # prototypes\n",
    "        ax.scatter(self.prototypes[:, 0], self.prototypes[:, 1], c=self.prototype_labels, cmap=\"Set1\", label=\"prototypes\", marker=\"x\")\n",
    "        \n",
    "        plt.show()\n",
    "        \n",
    "    def get_distance(self, a, b):\n",
    "        return np.sum(np.power(a - b, 2))\n",
    "    \n",
    "    def learn(self, X):\n",
    "        idx = np.random.choice(len(X))\n",
    "        x = X[idx]\n",
    "        \n",
    "        distances = np.zeros(self.num_prototypes)\n",
    "        for i in range(len(distances)):\n",
    "            distances[i] = self.get_distance(x, self.prototypes[i])\n",
    "        indices = np.argsort(distances)\n",
    "        \n",
    "        for k, i in enumerate(indices, 1):\n",
    "            delta = self.step_size * np.exp(-k / self.neighborhood_range) * (x - self.prototypes[i])\n",
    "            self.prototypes[i] += delta"
   ]
  },
  {
   "cell_type": "code",
   "execution_count": 249,
   "id": "centered-sigma",
   "metadata": {},
   "outputs": [],
   "source": [
    "num_prototypes = 5\n",
    "dimension = 2\n",
    "prototypes = np.full((C, num_prototypes, dimension), np.nan)\n",
    "\n",
    "for c in range(C):\n",
    "    indices = np.where(Y == c)\n",
    "    X_c = X[indices]\n",
    "    Y_c = Y[indices]\n",
    "    ng = NeuralGas(num_prototypes=num_prototypes, dimension=dimension, step_size=0.01, neighborhood_range=2)\n",
    "    ng.initialize_prototypes(X_c, Y_c)\n",
    "    for epoch in range(20):\n",
    "        ng.learn(X)\n",
    "    prototypes[c] = ng.prototypes"
   ]
  },
  {
   "cell_type": "code",
   "execution_count": 250,
   "id": "ready-treasurer",
   "metadata": {},
   "outputs": [
    {
     "data": {
      "image/png": "[encoded data removed]",
      "text/plain": [
       "<Figure size 432x288 with 1 Axes>"
      ]
     },
     "metadata": {
      "needs_background": "light"
     },
     "output_type": "display_data"
    }
   ],
   "source": [
    "data_colors = (\"lightskyblue\", \"lightpink\")\n",
    "prototype_colors = (\"blue\", \"red\")\n",
    "\n",
    "fig, ax = plt.subplots()\n",
    "\n",
    "for c, class_prototypes in enumerate(prototypes):\n",
    "    indices = np.where(Y == c)\n",
    "    X_c = X[indices]\n",
    "    Y_c = Y[indices]\n",
    "    ax.scatter(X_c[:, 0], X_c[:, 1], label=f\"data {c}\", color=data_colors[c])\n",
    "for c, class_prototypes in enumerate(prototypes):\n",
    "    ax.scatter(class_prototypes[:, 0], class_prototypes[:, 1], c=prototype_colors[c], label=f\"prototypes {c}\", marker=\"x\")\n",
    "plt.legend()\n",
    "plt.show()"
   ]
  },
  {
   "cell_type": "code",
   "execution_count": 251,
   "id": "severe-hunger",
   "metadata": {},
   "outputs": [
    {
     "data": {
      "text/plain": [
       "(2, 5, 2)"
      ]
     },
     "execution_count": 251,
     "metadata": {},
     "output_type": "execute_result"
    }
   ],
   "source": [
    "prototypes.shape"
   ]
  },
  {
   "cell_type": "markdown",
   "id": "successful-electric",
   "metadata": {},
   "source": [
    "# Probabilistic K-Nearest Neighbors (PKNN)"
   ]
  },
  {
   "cell_type": "code",
   "execution_count": 301,
   "id": "elegant-prompt",
   "metadata": {},
   "outputs": [],
   "source": [
    "class PKNN():\n",
    "    def __init__(self, prototypes, K, fuzzifier):\n",
    "        self.prototypes = prototypes\n",
    "        self.K = K\n",
    "        self.fuzzifier = fuzzifier\n",
    "    \n",
    "    def num_prototypes(self):\n",
    "        return self.prototypes.shape[1]\n",
    "    \n",
    "    def get_distance(self, a, b):\n",
    "        return np.sum(np.power(a - b, 2))\n",
    "    \n",
    "    def knn(self, A, B, n=5, ignore_diag=False):\n",
    "        distances = np.full((len(A), len(B)), np.nan)\n",
    "        for i in range(len(A)):\n",
    "            for j in range(len(B)):\n",
    "                if ignore_diag and i == j:\n",
    "                    continue\n",
    "                distances[i, j] = self.get_distance(A[i], B[j])\n",
    "        sorted_indices = np.argpartition(distances, kth=range(n), axis=1)[:, :n]\n",
    "        shortest_distances= np.full((len(A), n), np.nan)\n",
    "        for i in range(len(shortest_distances)):\n",
    "            shortest_distances[i] = distances[i, sorted_indices[i]]\n",
    "        return sorted_indices, shortest_distances\n",
    "    \n",
    "    def estimate_radius(self, n=5):\n",
    "        if n >= self.num_prototypes():\n",
    "            raise ValueError(f\"n({n}) must be less than the number of prototypes({self.num_prototypes()})\")\n",
    "        self.radius = np.full(len(self.prototypes), np.nan)\n",
    "        for i in range(len(self.prototypes)):\n",
    "            _, shortest_distances = self.knn(self.prototypes[i], self.prototypes[i], n=n, ignore_diag=True)\n",
    "            fig, ax = plt.subplots()\n",
    "            hist, bins = np.histogram(shortest_distances, bins=8)\n",
    "            width = 0.7 * (bins[1] - bins[0])\n",
    "            center = (bins[:-1] + bins[1:]) / 2\n",
    "            ax.bar(center, hist, align='center', width=width)\n",
    "            mean = np.mean(center)\n",
    "            ax.plot([mean] * (np.max(hist)+1), np.arange(np.max(hist)+1), color=\"red\")\n",
    "            ax.set_title(f\"Class {i} $\\eta = {mean:.3f}$\")\n",
    "            self.radius[i] = mean\n",
    "    \n",
    "    def compute_fuzzy_membership(self, n_i, pred, actual):\n",
    "        if pred == actual:\n",
    "            return 0.51 + (n_i / self.K) * 0.49\n",
    "        else:\n",
    "            return (n_i / self.K) * 0.49\n",
    "    \n",
    "    def compute_typicality(self, x, p):\n",
    "        return 1 / (1 + (self.get_distance(x, p) / self.radius) ** (1 / (self.fuzzifier-1)))"
   ]
  },
  {
   "cell_type": "code",
   "execution_count": 302,
   "id": "serial-monday",
   "metadata": {},
   "outputs": [],
   "source": [
    "pknn = PKNN(prototypes=prototypes, K=3, fuzzifier=1.5)"
   ]
  },
  {
   "cell_type": "code",
   "execution_count": 303,
   "id": "enormous-attack",
   "metadata": {},
   "outputs": [
    {
     "data": {
      "text/plain": [
       "array([5.17620346, 6.49239428])"
      ]
     },
     "execution_count": 303,
     "metadata": {},
     "output_type": "execute_result"
    },
    {
     "data": {
      "image/png": "[encoded data removed]",
      "text/plain": [
       "<Figure size 432x288 with 1 Axes>"
      ]
     },
     "metadata": {
      "needs_background": "light"
     },
     "output_type": "display_data"
    },
    {
     "data": {
      "image/png": "[encoded data removed]",
      "text/plain": [
       "<Figure size 432x288 with 1 Axes>"
      ]
     },
     "metadata": {
      "needs_background": "light"
     },
     "output_type": "display_data"
    }
   ],
   "source": [
    "pknn.estimate_radius(n=3)\n",
    "pknn.radius"
   ]
  },
  {
   "cell_type": "code",
   "execution_count": 21,
   "id": "cooperative-saturn",
   "metadata": {},
   "outputs": [
    {
     "name": "stdout",
     "output_type": "stream",
     "text": [
      "fuzzy_memberships [0.16333333 0.32666667]\n",
      "fuzzy_memberships [0.16333333 0.32666667]\n",
      "fuzzy_memberships [0.83666667 0.67333333]\n",
      "fuzzy_memberships [0.16333333 0.32666667]\n",
      "fuzzy_memberships [0.83666667 0.67333333]\n",
      "fuzzy_memberships [0.16333333 0.32666667]\n",
      "fuzzy_memberships [0.16333333 0.32666667]\n",
      "fuzzy_memberships [0.83666667 0.67333333]\n",
      "fuzzy_memberships [0.83666667 0.67333333]\n",
      "fuzzy_memberships [0.16333333 0.32666667]\n",
      "fuzzy_memberships [0.51 1.  ]\n",
      "fuzzy_memberships [0.51 1.  ]\n",
      "fuzzy_memberships [0.51 1.  ]\n",
      "fuzzy_memberships [0.51 1.  ]\n",
      "fuzzy_memberships [0.51 1.  ]\n",
      "fuzzy_memberships [0.51 1.  ]\n",
      "fuzzy_memberships [0.51 1.  ]\n",
      "fuzzy_memberships [0.51 1.  ]\n",
      "fuzzy_memberships [0.51 1.  ]\n",
      "fuzzy_memberships [0.51 1.  ]\n"
     ]
    }
   ],
   "source": [
    "typicalities = np.full((pknn.prototypes.shape[0], pknn.prototypes.shape[1]), np.nan)\n",
    "sorted_indices, _ = pknn.knn(X, pknn.prototypes, n=pknn.K)\n",
    "for i, idx in enumerate(sorted_indices):\n",
    "    # crisp membership ========================================================\n",
    "    crisp_memberships = np.zeros(C)\n",
    "    for pred_idx in pknn.prototype_labels[idx]:\n",
    "        crisp_memberships[pred_idx] += 1\n",
    "    pred_class = np.argmax(crisp_memberships)\n",
    "    # constraint check\n",
    "    assert np.sum(crisp_memberships) == pknn.K\n",
    "    \n",
    "    # fuzzy membership ========================================================\n",
    "    fuzzy_memberships = np.full(len(crisp_memberships), np.nan)\n",
    "    for c, n_i in enumerate(crisp_memberships):\n",
    "        fuzzy_memberships[c] = pknn.compute_fuzzy_membership(n_i=n_i, pred=pred_class, actual=Y[i])\n",
    "    print(\"fuzzy_memberships\", fuzzy_memberships)\n",
    "    # constraint check\n",
    "    assert np.max(fuzzy_memberships) > 0\n",
    "    assert np.max(fuzzy_memberships) <= 1\n",
    "    \n",
    "    for k in idx:\n",
    "        # typicality ==========================================================\n",
    "        t = pknn.compute_typicality(X[i], pknn.prototypes[k])\n",
    "        typicalities[i, k] = t\n",
    "#         print(f\"t_{i},{k} = {typicalities[i, k]}\")"
   ]
  },
  {
   "cell_type": "code",
   "execution_count": 13,
   "id": "entire-voluntary",
   "metadata": {},
   "outputs": [
    {
     "data": {
      "text/plain": [
       "(array([0, 3]), array([2, 1], dtype=int64))"
      ]
     },
     "execution_count": 13,
     "metadata": {},
     "output_type": "execute_result"
    }
   ],
   "source": [
    "np.unique([0, 0, 3], return_counts=True)"
   ]
  },
  {
   "cell_type": "code",
   "execution_count": null,
   "id": "gross-outreach",
   "metadata": {},
   "outputs": [],
   "source": []
  }
 ],
 "metadata": {
  "kernelspec": {
   "display_name": "Python 3",
   "language": "python",
   "name": "python3"
  },
  "language_info": {
   "codemirror_mode": {
    "name": "ipython",
    "version": 3
   },
   "file_extension": ".py",
   "mimetype": "text/x-python",
   "name": "python",
   "nbconvert_exporter": "python",
   "pygments_lexer": "ipython3",
   "version": "3.8.5"
  }
 },
 "nbformat": 4,
 "nbformat_minor": 5
}
