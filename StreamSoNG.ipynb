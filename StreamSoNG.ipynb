{
 "cells": [
  {
   "cell_type": "markdown",
   "id": "czech-evolution",
   "metadata": {},
   "source": [
    "<center><h1>StreamSoNG (Streaming Soft Neural Gas)</h1></center>"
   ]
  },
  {
   "cell_type": "markdown",
   "id": "instrumental-coordinate",
   "metadata": {},
   "source": [
    "<hr />"
   ]
  },
  {
   "cell_type": "code",
   "execution_count": 1,
   "id": "atomic-prisoner",
   "metadata": {},
   "outputs": [],
   "source": [
    "import numpy as np\n",
    "import matplotlib.pyplot as plt"
   ]
  },
  {
   "cell_type": "code",
   "execution_count": 2,
   "id": "collected-capability",
   "metadata": {},
   "outputs": [
    {
     "data": {
      "text/plain": [
       "((200, 2), (200,))"
      ]
     },
     "execution_count": 2,
     "metadata": {},
     "output_type": "execute_result"
    }
   ],
   "source": [
    "X1 = np.random.normal(-2, 2,(100, 2))\n",
    "Y1 = np.zeros(len(X1))\n",
    "X2 = np.random.normal(15, 4,(100, 2))\n",
    "Y2 = np.zeros(len(X2)) + 1\n",
    "X = np.concatenate((X1, X2), axis=0)\n",
    "Y = np.concatenate((Y1, Y2), axis=0)\n",
    "\n",
    "X.shape, Y.shape"
   ]
  },
  {
   "cell_type": "code",
   "execution_count": 3,
   "id": "pacific-smell",
   "metadata": {},
   "outputs": [
    {
     "data": {
      "text/plain": [
       "('C', 2)"
      ]
     },
     "execution_count": 3,
     "metadata": {},
     "output_type": "execute_result"
    }
   ],
   "source": [
    "C = len(np.unique(Y))\n",
    "\"C\", C"
   ]
  },
  {
   "cell_type": "markdown",
   "id": "distinguished-product",
   "metadata": {},
   "source": [
    "# Neural Gas (NG)"
   ]
  },
  {
   "cell_type": "code",
   "execution_count": 4,
   "id": "young-ground",
   "metadata": {},
   "outputs": [],
   "source": [
    "class NeuralGas():\n",
    "    def __init__(self, num_prototypes, dimension, step_size, neighborhood_range):\n",
    "        self.num_prototypes = num_prototypes\n",
    "        self.dimension = dimension\n",
    "#         self.prototypes = np.random.random((num_prototypes, dimension))\n",
    "        self.prototypes = np.random.normal(0, 4, (num_prototypes, dimension))\n",
    "        self.prototype_labels = np.full(num_prototypes, np.nan)\n",
    "        self.step_size = step_size\n",
    "        self.neighborhood_range = neighborhood_range\n",
    "    \n",
    "    def initialize_prototypes(self, X, Y):\n",
    "        indices = np.random.choice(len(X), self.num_prototypes)\n",
    "        for i in range(len(indices)):\n",
    "            self.prototypes[i] = X[indices[i]]\n",
    "            self.prototype_labels[i] = Y[indices[i]]\n",
    "    \n",
    "    def visualize(self, X, Y):\n",
    "        fig, ax = plt.subplots()\n",
    "        \n",
    "        # data\n",
    "        ax.scatter(X[:, 0], X[:, 1], label=\"data\", c=Y, cmap=\"Pastel1\")\n",
    "        \n",
    "        # prototypes\n",
    "        ax.scatter(self.prototypes[:, 0], self.prototypes[:, 1], c=self.prototype_labels, cmap=\"Set1\", label=\"prototypes\", marker=\"x\")\n",
    "        \n",
    "        plt.show()\n",
    "        \n",
    "    def get_distance(self, a, b):\n",
    "        return np.sum(np.power(a - b, 2))\n",
    "    \n",
    "    def learn(self, X):\n",
    "        idx = np.random.choice(len(X))\n",
    "        x = X[idx]\n",
    "        \n",
    "        distances = np.zeros(self.num_prototypes)\n",
    "        for i in range(len(distances)):\n",
    "            distances[i] = self.get_distance(x, self.prototypes[i])\n",
    "        indices = np.argsort(distances)\n",
    "        \n",
    "        for k, i in enumerate(indices, 1):\n",
    "            delta = self.step_size * np.exp(-k / self.neighborhood_range) * (x - self.prototypes[i])\n",
    "            self.prototypes[i] += delta"
   ]
  },
  {
   "cell_type": "code",
   "execution_count": 5,
   "id": "disturbed-growth",
   "metadata": {},
   "outputs": [
    {
     "name": "stdout",
     "output_type": "stream",
     "text": [
      "(10, 2) (10,)\n"
     ]
    }
   ],
   "source": [
    "num_prototypes = 5\n",
    "dimension = 2\n",
    "prototypes = []\n",
    "prototype_labels = []\n",
    "\n",
    "for c in range(C):\n",
    "    indices = np.where(Y == c)\n",
    "    X_c = X[indices]\n",
    "    Y_c = Y[indices]\n",
    "    ng = NeuralGas(num_prototypes=num_prototypes, dimension=dimension, step_size=0.01, neighborhood_range=2)\n",
    "    ng.initialize_prototypes(X_c, Y_c)\n",
    "    for epoch in range(20):\n",
    "        ng.learn(X)\n",
    "    prototypes.extend(ng.prototypes)\n",
    "    prototype_labels.extend(ng.prototype_labels)\n",
    "\n",
    "prototypes = np.array(prototypes)\n",
    "prototype_labels = np.array(prototype_labels)\n",
    "print(prototypes.shape, prototype_labels.shape)"
   ]
  },
  {
   "cell_type": "code",
   "execution_count": 6,
   "id": "solved-disability",
   "metadata": {},
   "outputs": [
    {
     "data": {
      "image/png": "[encoded data removed]",
      "text/plain": [
       "<Figure size 432x288 with 1 Axes>"
      ]
     },
     "metadata": {
      "needs_background": "light"
     },
     "output_type": "display_data"
    }
   ],
   "source": [
    "data_colors = (\"lightskyblue\", \"lightpink\")\n",
    "prototype_colors = (\"blue\", \"red\")\n",
    "\n",
    "fig, ax = plt.subplots()\n",
    "\n",
    "# data\n",
    "for c in range(C):\n",
    "    indices = np.where(Y == c)\n",
    "    X_c = X[indices]\n",
    "    Y_c = Y[indices]\n",
    "    ax.scatter(X_c[:, 0], X_c[:, 1], label=f\"data {c}\", color=data_colors[c])\n",
    "    \n",
    "# prototypes\n",
    "for c in range(C):\n",
    "    indices = np.where(prototype_labels == c)\n",
    "    prototypes_c = prototypes[indices]\n",
    "    ax.scatter(prototypes_c[:, 0], prototypes_c[:, 1], c=prototype_colors[c], label=f\"prototypes {c}\", marker=\"x\")\n",
    "\n",
    "ax.set_aspect(1)\n",
    "plt.legend()\n",
    "plt.show()"
   ]
  },
  {
   "cell_type": "code",
   "execution_count": 7,
   "id": "worthy-timeline",
   "metadata": {},
   "outputs": [
    {
     "data": {
      "text/plain": [
       "(10, 2)"
      ]
     },
     "execution_count": 7,
     "metadata": {},
     "output_type": "execute_result"
    }
   ],
   "source": [
    "prototypes.shape"
   ]
  },
  {
   "cell_type": "markdown",
   "id": "accessible-mobile",
   "metadata": {},
   "source": [
    "# Probabilistic K-Nearest Neighbors (PKNN)"
   ]
  },
  {
   "cell_type": "code",
   "execution_count": 8,
   "id": "horizontal-burden",
   "metadata": {},
   "outputs": [],
   "source": [
    "class PKNN():\n",
    "    def __init__(self, prototypes, prototype_labels, num_classes, K, fuzzifier):\n",
    "        self.prototypes = prototypes\n",
    "        self.prototype_labels = prototype_labels.astype(int)\n",
    "        self.num_classes = num_classes\n",
    "        self.K = K\n",
    "        self.fuzzifier = fuzzifier\n",
    "    \n",
    "    def add_prototypes(self, new_prototypes):\n",
    "#         self.prototypes = np.append(self.prototypes, new_prototypes, axis=0)\n",
    "        self.prototypes = np.concatenate((self.prototypes, new_prototypes))\n",
    "        \n",
    "    def add_prototype_labels(self, new_prototype_labels):\n",
    "#         self.prototype_labels = np.append(self.prototype_labels, new_prototype_labels).astype(int)\n",
    "        self.prototype_labels = np.concatenate((self.prototype_labels, new_prototype_labels)).astype(int)\n",
    "    \n",
    "    def add_class(self):\n",
    "        self.num_classes += 1\n",
    "    \n",
    "    def num_prototypes(self):\n",
    "        return self.prototypes.shape[0]\n",
    "    \n",
    "    def get_distance(self, a, b):\n",
    "        return np.sum(np.power(a - b, 2))\n",
    "    \n",
    "    def euclidean_distance(self, a, b):\n",
    "        return np.sqrt(np.sum(np.power(a - b, 2)))\n",
    "    \n",
    "    def knn(self, A, B, n=5, ignore_diag=False, distance_fx=None):\n",
    "        if A.ndim == 1:\n",
    "            A = A[None, :]\n",
    "        if distance_fx is None:\n",
    "            distance_fx = self.get_distance\n",
    "        distances = np.full((len(A), len(B)), np.nan)\n",
    "        for i in range(len(A)):\n",
    "            for j in range(len(B)):\n",
    "                if ignore_diag and i == j:\n",
    "                    continue\n",
    "                distances[i, j] = distance_fx(A[i], B[j])\n",
    "            \n",
    "        sorted_indices = np.argpartition(distances, kth=range(n), axis=1)[:, :n]\n",
    "        shortest_distances= np.full((len(A), n), np.nan)\n",
    "        for i in range(len(shortest_distances)):\n",
    "            shortest_distances[i] = distances[i, sorted_indices[i]]\n",
    "        return sorted_indices, shortest_distances\n",
    "        \n",
    "    def estimate_radius(self, n=5, show_figure=False):\n",
    "        if n >= self.num_prototypes():\n",
    "            raise ValueError(f\"n({n}) must be less than the number of prototypes({self.num_prototypes()})\")\n",
    "        self.radius = np.full(self.num_classes, np.nan)\n",
    "        for c in range(self.num_classes):\n",
    "            indices_c = np.where(self.prototype_labels == c)\n",
    "            prototypes_c = self.prototypes[indices_c]\n",
    "            _, shortest_distances = self.knn(prototypes_c, prototypes_c, n=n, ignore_diag=True, distance_fx=self.euclidean_distance)\n",
    "            \n",
    "            hist, bins = np.histogram(shortest_distances, bins=8)\n",
    "            width = 0.7 * (bins[1] - bins[0])\n",
    "            center = (bins[:-1] + bins[1:]) / 2\n",
    "            self.radius[c] = mean = np.mean(center)\n",
    "            \n",
    "            if show_figure:\n",
    "                fig, ax = plt.subplots()\n",
    "                ax.bar(center, hist, align='center', width=width)\n",
    "                ax.plot([mean] * (np.max(hist)+1), np.arange(np.max(hist)+1), color=\"red\")\n",
    "                ax.set_title(f\"Class {c} $\\eta = {mean:.3f}$\")\n",
    "    \n",
    "    def compute_fuzzy_membership(self, n_i, pred, actual):\n",
    "        if pred == actual:\n",
    "            return 0.51 + (n_i / self.K) * 0.49\n",
    "        else:\n",
    "            return (n_i / self.K) * 0.49\n",
    "    \n",
    "    def compute_typicality(self, x, p, i):\n",
    "        return 1 / (1 + (self.get_distance(x, p) / self.radius[i]) ** (1 / (self.fuzzifier-1)))\n",
    "    \n",
    "    def fuzzy_typicality(self, mu, t):\n",
    "        return mu * t\n",
    "\n",
    "    def average_typicality(self, fuzzy_typicalities):\n",
    "        if np.sum(fuzzy_typicalities) == 0:\n",
    "            return 0\n",
    "        return np.nan_to_num(np.mean(fuzzy_typicalities))\n",
    "\n",
    "    def s_function(self, x, a=0, b=0.5, c=1):\n",
    "        if x <= 0:\n",
    "            return 0\n",
    "        elif a < x and x <= b:\n",
    "            return ((x - a)**2) / (2 * ((b - a)**2))\n",
    "        elif b < x and x <= c:\n",
    "            return (-((x - c)**2) / (2 * ((b - c)**2))) + 1\n",
    "        elif x > c:\n",
    "            return 1\n",
    "    \n",
    "    def predict(self, x, j):\n",
    "        sorted_indices, _ = self.knn(x, self.prototypes, n=self.K)\n",
    "        t = 0\n",
    "\n",
    "        # crisp membership ========================================================\n",
    "        crisp_memberships = np.zeros(self.num_classes) # n_i\n",
    "        for i in self.prototype_labels[sorted_indices[t]]:\n",
    "            crisp_memberships[i] += 1\n",
    "        pred_class = np.argmax(crisp_memberships)\n",
    "        assert np.sum(crisp_memberships) == self.K\n",
    "\n",
    "        # fuzzy membership ========================================================\n",
    "        fuzzy_memberships = np.full(sorted_indices.shape[1], np.nan)\n",
    "        for k, i in enumerate(self.prototype_labels[sorted_indices[t]]):\n",
    "            fuzzy_memberships[k] = self.compute_fuzzy_membership(n_i=crisp_memberships[i], pred=i, actual=j)\n",
    "        assert np.min(fuzzy_memberships) >= 0\n",
    "        assert np.max(fuzzy_memberships) <= 1\n",
    "\n",
    "        # typicality ==============================================================\n",
    "        typicalities = np.full_like(fuzzy_memberships, np.nan)\n",
    "        for k, idx in enumerate(sorted_indices[t]):\n",
    "            p = self.prototypes[idx]\n",
    "            i = self.prototype_labels[idx]\n",
    "            typicalities[k] = self.compute_typicality(x, p, i)\n",
    "        assert np.min(typicalities) >= 0\n",
    "        assert np.max(typicalities) <= 1\n",
    "\n",
    "        # fuzzy typicality ========================================================\n",
    "        fuzzy_typicalities = np.full_like(typicalities, np.nan)\n",
    "        for k, idx in enumerate(sorted_indices[t]):\n",
    "            fuzzy_typicalities[k] = self.fuzzy_typicality(fuzzy_memberships[k], typicalities[k])\n",
    "        assert np.min(fuzzy_typicalities) >= 0\n",
    "        assert np.max(fuzzy_typicalities) <= 1\n",
    "\n",
    "        # average typicality ======================================================\n",
    "        pred_classes = self.prototype_labels[sorted_indices[t]]\n",
    "        average_typicalities = np.full_like(crisp_memberships, np.nan)\n",
    "        for i in range(self.num_classes):\n",
    "            indices = np.where(pred_classes == i)\n",
    "            average_typicalities[i] = self.average_typicality(fuzzy_typicalities[indices])\n",
    "        assert np.min(average_typicalities) >= 0\n",
    "        assert np.max(average_typicalities) <= 1\n",
    "\n",
    "        # S function ==============================================================\n",
    "        s_typicalities = np.full_like(average_typicalities, np.nan)\n",
    "        for i in range(self.num_classes):\n",
    "            s_typicalities[i] = self.s_function(average_typicalities[i])\n",
    "\n",
    "        # class_typicality =========================================================\n",
    "        class_closest = np.argmax(s_typicalities)\n",
    "        typicality_class = s_typicalities[class_closest]\n",
    "        return class_closest, typicality_class, sorted_indices[t], s_typicalities, average_typicalities"
   ]
  },
  {
   "cell_type": "markdown",
   "id": "signed-limit",
   "metadata": {
    "tags": []
   },
   "source": [
    "## SP1M"
   ]
  },
  {
   "cell_type": "code",
   "execution_count": 9,
   "id": "other-loading",
   "metadata": {},
   "outputs": [],
   "source": [
    "class SP1M():\n",
    "    def __init__(self, C=1, fuzzifier=2, bandwidth=np.sqrt(2)):\n",
    "        self.C = C\n",
    "        self.fuzzifier = fuzzifier # m\n",
    "        # TODO: dynamic η for each cluster\n",
    "        self.bandwidth = bandwidth # η\n",
    "        \n",
    "        assert self.fuzzifier >= 1\n",
    "        assert self.bandwidth > 0\n",
    "\n",
    "    def pick_cluster_center(self, c, X, partition_matrix):\n",
    "        n = len(X)\n",
    "        if c == 0:\n",
    "            idx = np.random.choice(n)\n",
    "        else:\n",
    "            # probabilities based on typicalities\n",
    "            probabilities = np.zeros(n)\n",
    "            # TODO:\n",
    "            partition_matrix = np.array(partition_matrix)\n",
    "            if partition_matrix.ndim == 1:\n",
    "                partition_matrix = partition_matrix[:, None]\n",
    "            max_u = np.amax(partition_matrix, axis=0)\n",
    "            probabilities = (1 - max_u) / (n - np.sum(max_u))\n",
    "            idx = np.random.choice(n, p=probabilities)\n",
    "        return X[idx]\n",
    "    \n",
    "    def compute_distance(self, a, b, squared=True):\n",
    "        d = np.sum((a - b) ** 2)\n",
    "        if squared:\n",
    "            return d\n",
    "        else:\n",
    "            return np.sqrt(d)\n",
    "        \n",
    "    def compute_typicality(self, v, x):\n",
    "        distance = self.compute_distance(v, x, squared=True)\n",
    "        denom = 1 + ((distance / self.bandwidth) ** (1 / (self.fuzzifier - 1)))\n",
    "        return 1 / denom\n",
    "    \n",
    "    def compute_cluster_center(self, cluster_typicalities, X):\n",
    "        n = len(X)\n",
    "        cluster_typicalities **= self.fuzzifier\n",
    "        if len(cluster_typicalities) != len(X):\n",
    "            raise ValueError(\"# of elements in u_ik and x_k are not the same\")\n",
    "        v = np.sum(cluster_typicalities[:, None] * X, axis=0) / np.sum(cluster_typicalities)\n",
    "        return v\n",
    "    \n",
    "    def process(self, X):\n",
    "        \"\"\"run SP1M on the data X\n",
    "        \n",
    "        :param X: numerical feature data set\n",
    "        :type X: numpy array\n",
    "        \"\"\"\n",
    "        n = len(X)\n",
    "        partition_matrix = [] # U\n",
    "        cluster_centers = [] # V\n",
    "        \n",
    "        # loop until C cluster centers were found\n",
    "        for c in range(self.C):\n",
    "            # first step, each data point has the same probability to be chosen\n",
    "            # as the initial cluster center v\n",
    "            v = self.pick_cluster_center(c, X, partition_matrix)\n",
    "            \n",
    "            typicalities = np.zeros(n)\n",
    "        \n",
    "            while True:\n",
    "                for k in range(n):\n",
    "                    typicalities[k] = self.compute_typicality(v, X[k])\n",
    "                v = self.compute_cluster_center(typicalities, X)\n",
    "                \n",
    "                # check convergence\n",
    "                prototype_distances = np.full(len(cluster_centers), np.nan)\n",
    "                for i, center in enumerate(cluster_centers):\n",
    "                    prototype_distances[i] = self.compute_distance(v, center, squared=False)\n",
    "                if len(prototype_distances) == 0 or min(prototype_distances) >= 2 * self.bandwidth:\n",
    "                    break\n",
    "                \n",
    "            partition_matrix.append(typicalities)\n",
    "            cluster_centers.append(v)\n",
    "            \n",
    "        assert len(partition_matrix) == len(cluster_centers)\n",
    "        return partition_matrix, cluster_centers"
   ]
  },
  {
   "cell_type": "code",
   "execution_count": 10,
   "id": "precise-lloyd",
   "metadata": {},
   "outputs": [
    {
     "name": "stdout",
     "output_type": "stream",
     "text": [
      "V [array([15.84437535, 13.01173357]), array([-2.3469958 , -2.00775564])]\n",
      "U (2, 200)\n"
     ]
    }
   ],
   "source": [
    "sp1m_test = SP1M(C=2, fuzzifier=2, bandwidth=np.sqrt(2))\n",
    "U, V = sp1m_test.process(X)\n",
    "print(\"V\", V)\n",
    "print(\"U\", np.array(U).shape)"
   ]
  },
  {
   "cell_type": "code",
   "execution_count": 11,
   "id": "recent-watch",
   "metadata": {},
   "outputs": [
    {
     "data": {
      "image/png": "[encoded data removed]",
      "text/plain": [
       "<Figure size 432x288 with 1 Axes>"
      ]
     },
     "metadata": {
      "needs_background": "light"
     },
     "output_type": "display_data"
    }
   ],
   "source": [
    "data_colors = (\"lightskyblue\", \"lightpink\")\n",
    "prototype_colors = (\"blue\", \"red\")\n",
    "\n",
    "fig, ax = plt.subplots()\n",
    "ax.scatter(X[:, 0], X[:, 1], color=\"gray\")\n",
    "for i, v in enumerate(V):\n",
    "    ax.scatter(v[0], v[1], color=prototype_colors[i])"
   ]
  },
  {
   "cell_type": "markdown",
   "id": "tough-rally",
   "metadata": {},
   "source": [
    "## StreamSoNG"
   ]
  },
  {
   "cell_type": "code",
   "execution_count": 12,
   "id": "based-authentication",
   "metadata": {},
   "outputs": [],
   "source": [
    "class StreamSoNG():\n",
    "    def __init__(self, pknn, sp1m, typicality_threshold, learning_rate=0.1, neighborhood_range=2, num_points_for_new_class=10):\n",
    "        self.pknn = pknn\n",
    "        self.sp1m = sp1m\n",
    "        self.typicality_threshold = typicality_threshold\n",
    "        self.learning_rate = learning_rate\n",
    "        self.neighborhood_range = neighborhood_range\n",
    "        self.num_points_for_new_class = num_points_for_new_class # M\n",
    "        self.outliers = []\n",
    "    \n",
    "    def visualize(self, X, Y, show_radius=False):\n",
    "        data_colors = ('lightskyblue', 'lightpink', 'mediumspringgreen', 'gold', 'mediumpurple')\n",
    "        prototype_colors = ('blue', 'red', 'green', 'darkorange', 'darkviolet')\n",
    "\n",
    "        fig, ax = plt.subplots(figsize=(10, 10))\n",
    "        \n",
    "        Y_pred = np.full_like(Y, np.nan)\n",
    "        for i, (x, j) in enumerate(zip(X, Y)):\n",
    "            Y_pred[i], typicality_class, _, s_typ, average_typicalities = self.pknn.predict(x, j)\n",
    "\n",
    "        # data\n",
    "        for c in range(self.pknn.num_classes):\n",
    "            indices = np.where(Y_pred == c)\n",
    "            X_c = X[indices]\n",
    "            Y_c = Y_pred[indices]\n",
    "            ax.scatter(X_c[:, 0], X_c[:, 1], label=f\"data {c}\", color=data_colors[c])\n",
    "\n",
    "        # prototypes\n",
    "        for c in range(self.pknn.num_classes):\n",
    "            indices = np.where(self.pknn.prototype_labels == c)\n",
    "            prototypes_c = self.pknn.prototypes[indices]\n",
    "            ax.scatter(prototypes_c[:, 0], prototypes_c[:, 1], c=prototype_colors[c], label=f\"prototypes {c}\", marker=\"x\")\n",
    "            if show_radius:\n",
    "                for i in range(len(prototypes_c)):\n",
    "                    x = prototypes_c[i, 0]\n",
    "                    y = prototypes_c[i, 1]\n",
    "                    circle = plt.Circle((x, y), self.pknn.radius[c], color=prototype_colors[c], fill=False, linestyle=\"--\")\n",
    "                    ax.add_patch(circle)\n",
    "\n",
    "        ax.set_aspect(1)\n",
    "        plt.legend()\n",
    "        plt.show()\n",
    "    \n",
    "    def update(self, k, prototype_idx, typicality_class, x):\n",
    "        self.pknn.prototypes[prototype_idx] += self.learning_rate * typicality_class * np.exp((-k / self.neighborhood_range)) * (x - self.pknn.prototypes[prototype_idx])\n",
    "    \n",
    "    def remove_outliers(self):\n",
    "        self.outliers.clear()\n",
    "        \n",
    "    def stream_process(self, X, Y):\n",
    "        Y_pred = np.zeros(len(X))\n",
    "        for t in range(len(X)):\n",
    "            x = X[t]\n",
    "            j = Y[t]\n",
    "            \n",
    "            class_closest, typicality_class, closest_indices, s_typicalities, _ = self.pknn.predict(x, j)\n",
    "            Y_pred[t] = class_closest\n",
    "            if typicality_class > self.typicality_threshold:\n",
    "                for k, closest_idx in enumerate(closest_indices):\n",
    "                    self.update(k, closest_idx, typicality_class, x)\n",
    "            else:\n",
    "                self.outliers.append(x)\n",
    "                \n",
    "                U, V = self.sp1m.process(self.outliers)\n",
    "\n",
    "                new_cluster_typicalities = U[0]\n",
    "                num_points_half_typicality = len(np.where(new_cluster_typicalities > 0.5)[0])\n",
    "                if num_points_half_typicality > self.num_points_for_new_class:\n",
    "                    print(\"> NEW CLASS from\", num_points_half_typicality, \"points\")\n",
    "                    ng = NeuralGas(num_prototypes=num_prototypes, dimension=dimension, step_size=0.01, neighborhood_range=2)\n",
    "                    X_c = self.outliers\n",
    "                    Y_c = np.zeros(len(X_c)) + self.pknn.num_classes\n",
    "                    ng.initialize_prototypes(X_c, Y_c)\n",
    "                    for epoch in range(20):\n",
    "                        ng.learn(X_c)\n",
    "                    self.pknn.add_prototypes(ng.prototypes)\n",
    "                    self.pknn.add_prototype_labels(ng.prototype_labels)\n",
    "                    self.pknn.add_class()\n",
    "                    self.pknn.estimate_radius(n=3)\n",
    "                    self.pknn.radius\n",
    "                    self.remove_outliers()"
   ]
  },
  {
   "cell_type": "code",
   "execution_count": 13,
   "id": "seven-nicaragua",
   "metadata": {},
   "outputs": [],
   "source": [
    "pknn = PKNN(prototypes=prototypes, prototype_labels=prototype_labels, num_classes=C, K=3, fuzzifier=1.5)"
   ]
  },
  {
   "cell_type": "code",
   "execution_count": 14,
   "id": "stuffed-provision",
   "metadata": {},
   "outputs": [],
   "source": [
    "sp1m = SP1M(C=1, fuzzifier=2, bandwidth=np.sqrt(2))"
   ]
  },
  {
   "cell_type": "code",
   "execution_count": 15,
   "id": "loaded-dispatch",
   "metadata": {},
   "outputs": [],
   "source": [
    "streamsong = StreamSoNG(pknn=pknn, sp1m=sp1m, typicality_threshold=0.2, learning_rate=0.5, neighborhood_range=2, num_points_for_new_class=10)"
   ]
  },
  {
   "cell_type": "code",
   "execution_count": 16,
   "id": "collect-uncle",
   "metadata": {},
   "outputs": [
    {
     "data": {
      "text/plain": [
       "array([3.12707033, 2.4439436 ])"
      ]
     },
     "execution_count": 16,
     "metadata": {},
     "output_type": "execute_result"
    },
    {
     "data": {
      "image/png": "[encoded data removed]",
      "text/plain": [
       "<Figure size 432x288 with 1 Axes>"
      ]
     },
     "metadata": {
      "needs_background": "light"
     },
     "output_type": "display_data"
    },
    {
     "data": {
      "image/png": "[encoded data removed]",
      "text/plain": [
       "<Figure size 432x288 with 1 Axes>"
      ]
     },
     "metadata": {
      "needs_background": "light"
     },
     "output_type": "display_data"
    }
   ],
   "source": [
    "streamsong.pknn.estimate_radius(n=3, show_figure=True)\n",
    "streamsong.pknn.radius"
   ]
  },
  {
   "cell_type": "code",
   "execution_count": 17,
   "id": "olive-nowhere",
   "metadata": {},
   "outputs": [],
   "source": [
    "X_all = X.copy()\n",
    "Y_all = Y.copy()"
   ]
  },
  {
   "cell_type": "code",
   "execution_count": 18,
   "id": "difficult-webster",
   "metadata": {},
   "outputs": [
    {
     "name": "stdout",
     "output_type": "stream",
     "text": [
      "300\n"
     ]
    }
   ],
   "source": [
    "X_new = np.random.normal((12, 12), 2, (100, 2))\n",
    "Y_new = np.zeros(len(X_new)) + streamsong.pknn.num_classes\n",
    "\n",
    "X_all = np.concatenate((X_all, X_new))\n",
    "Y_all = np.concatenate((Y_all, Y_new))\n",
    "print(len(X_all))"
   ]
  },
  {
   "cell_type": "code",
   "execution_count": 19,
   "id": "musical-culture",
   "metadata": {},
   "outputs": [
    {
     "name": "stdout",
     "output_type": "stream",
     "text": [
      "> NEW CLASS from 11 points\n"
     ]
    }
   ],
   "source": [
    "streamsong.stream_process(X_new, Y_new)"
   ]
  },
  {
   "cell_type": "code",
   "execution_count": 20,
   "id": "foster-leonard",
   "metadata": {},
   "outputs": [
    {
     "data": {
      "image/png": "[encoded data removed]",
      "text/plain": [
       "<Figure size 720x720 with 1 Axes>"
      ]
     },
     "metadata": {
      "needs_background": "light"
     },
     "output_type": "display_data"
    }
   ],
   "source": [
    "streamsong.visualize(X_all, Y_all)"
   ]
  },
  {
   "cell_type": "code",
   "execution_count": 21,
   "id": "demographic-brass",
   "metadata": {},
   "outputs": [
    {
     "name": "stdout",
     "output_type": "stream",
     "text": [
      "400\n"
     ]
    }
   ],
   "source": [
    "X_new = np.random.normal((5, 10), 2, (100, 2))\n",
    "Y_new = np.zeros(len(X_new)) + streamsong.pknn.num_classes\n",
    "\n",
    "X_all = np.concatenate((X_all, X_new))\n",
    "Y_all = np.concatenate((Y_all, Y_new))\n",
    "print(len(X_all))"
   ]
  },
  {
   "cell_type": "code",
   "execution_count": 22,
   "id": "comparable-cassette",
   "metadata": {},
   "outputs": [
    {
     "name": "stdout",
     "output_type": "stream",
     "text": [
      "> NEW CLASS from 11 points\n"
     ]
    }
   ],
   "source": [
    "streamsong.stream_process(X_new, Y_new)"
   ]
  },
  {
   "cell_type": "code",
   "execution_count": 23,
   "id": "formed-resort",
   "metadata": {},
   "outputs": [
    {
     "data": {
      "image/png": "[encoded data removed]",
      "text/plain": [
       "<Figure size 720x720 with 1 Axes>"
      ]
     },
     "metadata": {
      "needs_background": "light"
     },
     "output_type": "display_data"
    }
   ],
   "source": [
    "streamsong.visualize(X_all, Y_all)"
   ]
  },
  {
   "cell_type": "code",
   "execution_count": 24,
   "id": "ultimate-interview",
   "metadata": {},
   "outputs": [
    {
     "name": "stdout",
     "output_type": "stream",
     "text": [
      "500\n"
     ]
    }
   ],
   "source": [
    "X_new = np.random.normal((20, 0), 1, (100, 2))\n",
    "Y_new = np.zeros(len(X_new)) + streamsong.pknn.num_classes\n",
    "\n",
    "X_all = np.concatenate((X_all, X_new))\n",
    "Y_all = np.concatenate((Y_all, Y_new))\n",
    "print(len(X_all))"
   ]
  },
  {
   "cell_type": "code",
   "execution_count": 25,
   "id": "realistic-civilian",
   "metadata": {},
   "outputs": [
    {
     "name": "stdout",
     "output_type": "stream",
     "text": [
      "> NEW CLASS from 14 points\n"
     ]
    }
   ],
   "source": [
    "streamsong.stream_process(X_new, Y_new)"
   ]
  },
  {
   "cell_type": "code",
   "execution_count": 26,
   "id": "personal-shepherd",
   "metadata": {},
   "outputs": [
    {
     "data": {
      "image/png": "[encoded data removed]",
      "text/plain": [
       "<Figure size 720x720 with 1 Axes>"
      ]
     },
     "metadata": {
      "needs_background": "light"
     },
     "output_type": "display_data"
    }
   ],
   "source": [
    "streamsong.visualize(X_all, Y_all)"
   ]
  }
 ],
 "metadata": {
  "kernelspec": {
   "display_name": "Python 3",
   "language": "python",
   "name": "python3"
  },
  "language_info": {
   "codemirror_mode": {
    "name": "ipython",
    "version": 3
   },
   "file_extension": ".py",
   "mimetype": "text/x-python",
   "name": "python",
   "nbconvert_exporter": "python",
   "pygments_lexer": "ipython3",
   "version": "3.8.5"
  }
 },
 "nbformat": 4,
 "nbformat_minor": 5
}
